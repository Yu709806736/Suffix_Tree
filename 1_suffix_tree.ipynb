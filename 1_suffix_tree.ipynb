{
 "cells": [
  {
   "cell_type": "markdown",
   "metadata": {
    "id": "_ODCqKy9aHWK"
   },
   "source": [
    "<hr style=\"height:5px;border-width:2;color:gray;background-color:#000000\"> \n",
    "<center><h1>CS 234 - Fall 2022 - Linear-Time Construction of Suffix Trees</h1></center>\n",
    "<center><h1>Due: Sunday, December 4th, 2022</h1></center>"
   ]
  },
  {
   "cell_type": "markdown",
   "metadata": {
    "id": "9hRWwzYIaHWO",
    "tags": []
   },
   "source": [
    "### Enter your information below:\n",
    "\n",
    "<div style=\"color: #000000;background-color: #EEEEFF\">\n",
    "    Your Name (submitter): Jiajun Yu <br>\n",
    "    Your student ID (submitter): 862325139\n",
    "<br>\n",
    "<br>\n",
    "<b>By submitting this notebook, I assert that the work below is my own work, completed for this course.  Except where explicitly cited, none of the portions of this notebook are duplicated from anyone else's work or my own previous work.</b>\n",
    "<br>    \n",
    "<br>\n",
    "<B>Late work:</B> There is no late deadline for the final project, except for the most serious circumstances (illness, medical emergency, etc.) which have to be documented.\n",
    "</div>\n"
   ]
  },
  {
   "cell_type": "markdown",
   "metadata": {
    "id": "QOlNamAxaHWQ"
   },
   "source": [
    "<hr style=\"height:5px;border-width:2;color:gray;background-color:#000000\"> \n",
    "<center><h1>Ukkonen's algorithm</h1></center>\n",
    "<br>\n",
    "In this project you will implement the construction of suffix trees in linear-time using Ukkonen's algorithm. This algorithm was <B>not</B> explained in class. Part of this project is to understand how the algorithm works before starting the implementation. Here is some resources:\n",
    "<UL>\n",
    "    <li><A HREF=\"https://www.google.com/url?sa=t&rct=j&q=&esrc=s&source=web&cd=&cad=rja&uact=8&ved=2ahUKEwijjZ-oso_3AhWiIUQIHetGA1IQFnoECAMQAQ&url=http%3A%2F%2Fresearch.engineering.nyu.edu%2F~greg%2Falgo2%2Fprojects%2FSuffix_Tree_Implementation.pdf&usg=AOvVaw0Dqiem0l4NxXi41DvXUQ3N\">Gusfield's chapter on suffix trees</A> from his <A HREF=\"https://www.amazon.com/dp/0521585198\">book</A></li>\n",
    "    <li><A HREF=\"https://www.geeksforgeeks.org/ukkonens-suffix-tree-construction-part-1/\">GeeksforGeeks</A></li>\n",
    "    <li><A HREF=\"https://brenden.github.io/ukkonen-animation/\">Ukkonen's animation</A>, step by step</li>\n",
    "    <li><A HREF=\"https://stackoverflow.com/questions/9452701/ukkonens-suffix-tree-algorithm-in-plain-english\">StackOverflow</A></li>\n",
    "    <li>There are several videos on YouTube, e.g., <A HREF=\"https://www.youtube.com/watch?v=aPRqocoBsFQ\">this one</A></li>\n",
    "    <li>Use <A HREF=\"https://www.google.com/search?q=ukkonen+algorithm\">Google</A> for more</li>\n",
    "</UL>\n",
    "\n",
    "Goals:\n",
    "<UL>\n",
    "    <LI>Write a working (bug-free) Python3 implementation of Ukkonen's algorithm in JupyterHub that runs in linear time</LI>\n",
    "    <LI>Make sure that your implementation is correct: compare the output of your implementation to the output for the O(n^2) implementation that we used in Homework 2</LI>\n",
    "    <LI>Collect experimental results on running your code for larger and larger inputs, say 1000, 2000, 5000, 10000, 100000 symbols, and plot the running time as a function of the input size</LI>\n",
    "</UL>\n",
    "\n",
    "You are allowed to study C/C++ implementations of Ukkonen's algorithm, but you have to write your own Python code. It is mandatory to acknowledge sources.\n"
   ]
  },
  {
   "cell_type": "code",
   "execution_count": 7,
   "metadata": {
    "id": "Lwi5Wf24aHWS"
   },
   "outputs": [],
   "source": [
    "# YOUR CODE HERE\n",
    "# no suffix tree libraries allowed\n",
    "# refer to https://www.cnblogs.com/xubenben/p/3486007.html\n",
    "from abc import abstractmethod\n",
    "from typing import List, Dict\n",
    "import math\n",
    "INF = math.inf\n",
    "\n",
    "class Tree:\n",
    "    class TreeNode:\n",
    "        def __init__(self, tree, interv: List[int], leaf: bool = False):\n",
    "            self.leaf = leaf  # whether is a leaf\n",
    "            self.tree: Tree = tree\n",
    "            self.interval = interv  # the node represents substring s[l, r]\n",
    "            self.link = None  # suffix link\n",
    "            self.children: Dict[str, Tree.TreeNode] = {}\n",
    "            self.idx = -1  # if it is a leaf, we will change this\n",
    "\n",
    "        def get_text(self) -> str:\n",
    "            return self.tree.text[self.interval[0]:min(self.interval[1] + 1, self.tree.pos)]\n",
    "\n",
    "        def add_child(self, char: str, node):\n",
    "            self.children[char] = node\n",
    "            self.leaf = False\n",
    "\n",
    "        def match(self, pattern: str, result: List[int]):\n",
    "            text = self.get_text()\n",
    "            if pattern == '' or text.startswith(pattern):\n",
    "                if self.leaf:\n",
    "                    result.append(self.idx)\n",
    "                    return True\n",
    "                else:\n",
    "                    # dfs\n",
    "                    for key, child in self.children.items():\n",
    "                        child.match('', result)\n",
    "                    return True\n",
    "\n",
    "            if not self.leaf and pattern.startswith(text):\n",
    "                pattern = pattern[len(text):]\n",
    "                for key, child in self.children.items():\n",
    "                    if pattern[0] == key:\n",
    "                        child.match(pattern, result)\n",
    "\n",
    "        def suffix_link(self, node):\n",
    "            self.link = node\n",
    "\n",
    "        def __str__(self):\n",
    "            if self.leaf:\n",
    "                return '[{0}: {1}]'.format(self.get_text(), self.idx)\n",
    "            else:\n",
    "                return '({})'.format(self.get_text())\n",
    "\n",
    "        def edge_len(self) -> int:\n",
    "            return min(self.interval[1], self.tree.pos) - self.interval[0] + 1\n",
    "\n",
    "    def __init__(self):\n",
    "        self.root = Tree.TreeNode(self, [-1, -1])\n",
    "        self.cur_node = self.root  # current node\n",
    "        self.text: str = ''  # corresponding text\n",
    "        self.pos: int = -1  # current position in the text\n",
    "        self.link_from = None  # node that need a suffix link\n",
    "        self.leaves_needed: int = 0  # number of leaves to be added\n",
    "        self.cur_char: int = 0\n",
    "        self.cur_radius: int = 0\n",
    "        self.created = False\n",
    "\n",
    "    @abstractmethod\n",
    "    def extend(self, char: str):\n",
    "        pass\n",
    "\n",
    "    def setSuffixIndex(self, node: TreeNode, labelHeight: int):\n",
    "        if not node:\n",
    "            return\n",
    "        if node.leaf:\n",
    "            node.idx = len(self.text) - labelHeight\n",
    "            return\n",
    "        for key, child in node.children.items():\n",
    "            self.setSuffixIndex(child, labelHeight + child.edge_len())\n",
    "\n",
    "    @abstractmethod\n",
    "    def create(self, text: str):\n",
    "        pass\n",
    "\n",
    "    def match(self, pattern: str):\n",
    "        if not self.created:\n",
    "            print('The tree is still empty!')\n",
    "            return []\n",
    "        result = []\n",
    "        self.root.match(pattern, result)\n",
    "        return result"
   ]
  },
  {
   "cell_type": "code",
   "execution_count": 8,
   "metadata": {
    "pycharm": {
     "name": "#%%\n"
    }
   },
   "outputs": [],
   "source": [
    "class LinearTree(Tree):\n",
    "    def __init__(self):\n",
    "        super().__init__()\n",
    "        self.root = LinearTree.TreeNode(self, [-1, -1], True)\n",
    "        self.cur_node = self.root\n",
    "\n",
    "    def add_suffix_link(self, node: Tree.TreeNode):\n",
    "        if type(self.link_from) == LinearTree.TreeNode:\n",
    "            self.link_from.suffix_link(node)\n",
    "        self.link_from = node\n",
    "\n",
    "    def to_next_layer(self, node: Tree.TreeNode):\n",
    "        self.cur_char += node.edge_len()\n",
    "        self.cur_radius -= node.edge_len()\n",
    "        self.cur_node = node\n",
    "\n",
    "    def create(self, text: str):\n",
    "        text += '$'\n",
    "        for c in text:\n",
    "            self.extend(c)\n",
    "        self.setSuffixIndex(self.root, 0)\n",
    "        self.created = True\n",
    "\n",
    "    def extend(self, char: str):\n",
    "        self.text: str = ''.join([self.text, char])\n",
    "        self.pos += 1\n",
    "        self.leaves_needed += 1\n",
    "        lastNewNode = None\n",
    "        while self.leaves_needed:\n",
    "            if not self.cur_radius:\n",
    "                self.cur_char = self.pos\n",
    "            if self.text[self.cur_char] not in self.cur_node.children.keys():\n",
    "                # create a leaf node\n",
    "                leaf = LinearTree.TreeNode(self, [self.pos, INF], True)\n",
    "                self.cur_node.add_child(self.text[self.cur_char], leaf)\n",
    "                # self.cur_node.children[self.text[self.cur_char]] = leaf\n",
    "                if lastNewNode:\n",
    "                    lastNewNode.suffix_link(self.cur_node)\n",
    "                    lastNewNode = None\n",
    "            else:\n",
    "                next_node: LinearTree.TreeNode = self.cur_node.children[self.text[self.cur_char]]\n",
    "                if self.cur_radius >= next_node.edge_len():\n",
    "                    self.to_next_layer(next_node)\n",
    "                    continue\n",
    "                if self.text[next_node.interval[0] + self.cur_radius] == char:\n",
    "                    self.cur_radius += 1\n",
    "                    if lastNewNode and self.cur_node != self.root:\n",
    "                        lastNewNode.suffix_link(self.cur_node)\n",
    "                        lastNewNode = None\n",
    "                    break\n",
    "                # create branch node\n",
    "                branch = LinearTree.TreeNode(self, [next_node.interval[0], next_node.interval[0] + self.cur_radius - 1])\n",
    "                self.cur_node.add_child(self.text[self.cur_char], branch)\n",
    "                # add a leaf\n",
    "                leaf = LinearTree.TreeNode(self, [self.pos, INF], True)\n",
    "                branch.add_child(char, leaf)\n",
    "                next_node.interval[0] += self.cur_radius\n",
    "                # add branches to the branch node\n",
    "                branch.add_child(self.text[next_node.interval[0]], next_node)\n",
    "                if lastNewNode:\n",
    "                    lastNewNode.suffix_link(branch)\n",
    "                lastNewNode = branch\n",
    "            self.leaves_needed -= 1\n",
    "\n",
    "            if self.cur_node == self.root and self.cur_radius:\n",
    "                self.cur_radius -= 1\n",
    "                self.cur_char = self.pos - self.leaves_needed + 1\n",
    "            else:\n",
    "                self.cur_node = self.cur_node.link if self.cur_node.link else self.root"
   ]
  },
  {
   "cell_type": "code",
   "execution_count": 9,
   "metadata": {
    "pycharm": {
     "name": "#%%\n"
    }
   },
   "outputs": [],
   "source": [
    "class QuadraticTree(Tree):\n",
    "    def __init__(self, text):\n",
    "        super().__init__()\n",
    "        self.root = QuadraticTree.TreeNode(self, [-1, -1], True)\n",
    "        # self.cur_node = self.root\n",
    "        self.text = text + '$'\n",
    "        self.pos = len(self.text)\n",
    "        self.create(self.text)\n",
    "\n",
    "    def extend(self, s: str):\n",
    "        # TODO: add '$' to the text\n",
    "        idx = len(self.text) - len(s)\n",
    "        ss = s\n",
    "        cur_node = self.root\n",
    "        while len(s) > 0:\n",
    "            if s[0] not in cur_node.children:\n",
    "                child = QuadraticTree.TreeNode(self, [len(self.text)-len(s), len(self.text)-1], True)\n",
    "                # child.idx = idx\n",
    "                cur_node.add_child(s[0], child)\n",
    "                return\n",
    "            child = cur_node.children[s[0]]\n",
    "            text = child.get_text()\n",
    "            if len(s) > len(text) and s.startswith(text):\n",
    "                s = s[len(text):]\n",
    "                cur_node = child\n",
    "                continue\n",
    "            i = 0\n",
    "            while i < len(s) and text[i] == s[i]:\n",
    "                i += 1\n",
    "            # from i to the end\n",
    "            leaf = QuadraticTree.TreeNode(self, [len(self.text) - len(s) + i, len(self.text) - 1], True)\n",
    "            # leaf.idx = child.interval[0] + i\n",
    "            # from 0 to i-1\n",
    "            branch = QuadraticTree.TreeNode(self, [child.interval[0], child.interval[0] + i - 1])\n",
    "            # from i to the end of the original child node\n",
    "            child.interval[0] += i\n",
    "            # child.idx = idx\n",
    "            cur_node.add_child(s[0], branch)\n",
    "            branch.add_child(self.text[child.interval[0]], child)\n",
    "            branch.add_child(self.text[leaf.interval[0]], leaf)\n",
    "            break\n",
    "\n",
    "    def create(self, text: str):\n",
    "        for i in range(len(text)):\n",
    "            self.extend(text[i:])\n",
    "        self.setSuffixIndex(self.root, 0)\n",
    "        self.created = True"
   ]
  },
  {
   "cell_type": "code",
   "execution_count": 10,
   "metadata": {
    "pycharm": {
     "name": "#%%\n"
    }
   },
   "outputs": [
    {
     "name": "stdout",
     "output_type": "stream",
     "text": [
      "[0]\n",
      "[0]\n",
      "[2, 5]\n",
      "[2, 5]\n",
      "[]\n",
      "[]\n"
     ]
    }
   ],
   "source": [
    "# test whether both trees can perform correctly\n",
    "# string = 'ATCGTCAG'\n",
    "string = 'mississippi'\n",
    "patterns = ['mis', 'ssi', 'sssi']\n",
    "lt = LinearTree()\n",
    "lt.create(string)\n",
    "qt = QuadraticTree(string)\n",
    "\n",
    "for pat in patterns:\n",
    "    res_lt = lt.match(pat)\n",
    "    res_lt.sort()\n",
    "    print(res_lt)\n",
    "    res_qt = qt.match(pat)\n",
    "    res_qt.sort()\n",
    "    print(res_qt)"
   ]
  },
  {
   "cell_type": "code",
   "execution_count": 13,
   "outputs": [
    {
     "name": "stdout",
     "output_type": "stream",
     "text": [
      "Construction time: linear tree 0.026398658752441406s vs quadratic tree 0.017399930953979494s\n",
      "Results of the two trees are the same\n",
      "Construction time: linear tree 0.07552900314331054s vs quadratic tree 0.036797952651977536s\n",
      "Results of the two trees are the same\n",
      "Construction time: linear tree 0.656885290145874s vs quadratic tree 0.23536877632141112s\n",
      "Results of the two trees are the same\n",
      "Construction time: linear tree 0.5176337242126465s vs quadratic tree 0.5062103271484375s\n",
      "Results of the two trees are the same\n",
      "Construction time: linear tree 6.000340747833252s vs quadratic tree 10.564887285232544s\n",
      "Results of the two trees are the same\n"
     ]
    }
   ],
   "source": [
    "import random\n",
    "import time\n",
    "\n",
    "# use random cases to test the running time\n",
    "\n",
    "alphabet = 'abcdefghijklmnopqrstuvwxyzABCDEFGHIJKLMNOPQRSTUVWXYZ'\n",
    "# alphabet = 'ATCG'\n",
    "\n",
    "def rand_str(len_str, alphabet_lib) -> str:\n",
    "    n = len(alphabet_lib)\n",
    "    s = ''\n",
    "    for _ in range(len_str):\n",
    "        s += str(random.randint(0, n))\n",
    "    return s\n",
    "\n",
    "sizes = [1000, 2000, 5000, 10000, 100000, 500000]\n",
    "time_lt = []\n",
    "time_qt = []\n",
    "pattern_size = [10, 20, 50, 100, 200]\n",
    "for i, size in enumerate(sizes):\n",
    "    s = rand_str(size, alphabet)\n",
    "    time1 = 0\n",
    "    for j in range(5):\n",
    "        start_lt_time = time.time()\n",
    "        lt = LinearTree()\n",
    "        lt.create(s)\n",
    "        end_lt_time = time.time()\n",
    "        time1 += end_lt_time - start_lt_time\n",
    "    time2 = 0\n",
    "    for j in range(5):\n",
    "        start_qt_time = time.time()\n",
    "        qt = QuadraticTree(s)\n",
    "        end_qt_time = time.time()\n",
    "        time2 += end_qt_time - start_qt_time\n",
    "    time1 /= 5\n",
    "    time2 /= 5\n",
    "    time_lt.append(time1)\n",
    "    time_qt.append(time2)\n",
    "    print('Construction time: linear tree {0}s vs '\n",
    "          'quadratic tree {1}s'.format(time1, time2))\n",
    "    for pat_size in pattern_size:\n",
    "        pat = rand_str(pat_size, alphabet)\n",
    "        lt_match = lt.match(pat)\n",
    "        lt_match.sort()\n",
    "        qt_match = qt.match(pat)\n",
    "        qt_match.sort()\n",
    "        if lt_match != qt_match:\n",
    "            print('Different results for pattern {}'.format(pat))\n",
    "            break\n",
    "    else:\n",
    "        print('Results of the two trees are the same')"
   ],
   "metadata": {
    "collapsed": false,
    "pycharm": {
     "name": "#%%\n"
    }
   }
  },
  {
   "cell_type": "code",
   "execution_count": 14,
   "outputs": [
    {
     "data": {
      "text/plain": "<Figure size 432x288 with 1 Axes>",
      "image/png": "[encoded data removed]"
     },
     "metadata": {
      "needs_background": "light"
     },
     "output_type": "display_data"
    }
   ],
   "source": [
    "# plot\n",
    "import matplotlib.pyplot as plt\n",
    "plt.plot(sizes, time_lt, label='construction time for linear tree')\n",
    "plt.plot(sizes, time_qt, label='construction time for quadratic tree')\n",
    "plt.xscale('log')\n",
    "plt.legend()\n",
    "plt.savefig('time_comparison.jpg')\n",
    "plt.show()\n"
   ],
   "metadata": {
    "collapsed": false,
    "pycharm": {
     "name": "#%%\n"
    }
   }
  }
 ],
 "metadata": {
  "colab": {
   "provenance": []
  },
  "kernelspec": {
   "display_name": "Python 3",
   "language": "python",
   "name": "python3"
  },
  "language_info": {
   "codemirror_mode": {
    "name": "ipython",
    "version": 3
   },
   "file_extension": ".py",
   "mimetype": "text/x-python",
   "name": "python",
   "nbconvert_exporter": "python",
   "pygments_lexer": "ipython3",
   "version": "3.8.2"
  }
 },
 "nbformat": 4,
 "nbformat_minor": 1
}